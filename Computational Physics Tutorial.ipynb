{
  "nbformat": 4,
  "nbformat_minor": 0,
  "metadata": {
    "kernelspec": {
      "display_name": "Python 3",
      "language": "python",
      "name": "python3"
    },
    "language_info": {
      "codemirror_mode": {
        "name": "ipython",
        "version": 3
      },
      "file_extension": ".py",
      "mimetype": "text/x-python",
      "name": "python",
      "nbconvert_exporter": "python",
      "pygments_lexer": "ipython3",
      "version": "3.7.7"
    },
    "colab": {
      "name": "Copy of Computational Physics Tutorial",
      "provenance": [],
      "collapsed_sections": [
        "cXAArptkoAfc",
        "erahUNC4BRVC",
        "lMJrIii5D20h",
        "yXd5I20iiavY"
      ],
      "include_colab_link": true
    }
  },
  "cells": [
    {
      "cell_type": "markdown",
      "metadata": {
        "id": "view-in-github",
        "colab_type": "text"
      },
      "source": [
        "<a href=\"https://colab.research.google.com/github/MustafaKhan670093/Public-Notes/blob/master/Computational%20Physics%20Tutorial.ipynb\" target=\"_parent\"><img src=\"https://colab.research.google.com/assets/colab-badge.svg\" alt=\"Open In Colab\"/></a>"
      ]
    },
    {
      "cell_type": "markdown",
      "metadata": {
        "id": "cXAArptkoAfc"
      },
      "source": [
        "# Basic Physics Python Tutorial\n",
        "By Erik Gillis \n",
        "\n",
        "version 1.0 - October 14 2020\n"
      ]
    },
    {
      "cell_type": "markdown",
      "metadata": {
        "id": "reeK-_FgoAff"
      },
      "source": [
        "# The Notebook <a class=\"anchor\" id=\"the-notebook\"></a>\n",
        "\n",
        "Before we dive into code and problem solving, let's talk a little bit about what you're reading now. This is a **jupyter notebook**. The notebook provides a dynamic environment to write, execute and share code, fully integrated with text and explanations to enrich your work.\n",
        "\n",
        "The notebook is divided into cells which separate the markdown (text) you're reading with the code that you'd like to excecute. Below is a code cell. Code cells exceute their code, and output whatever's on their last line for you to read. Click on the code cell below and hit Control/Command+Enter to have it execute."
      ]
    },
    {
      "cell_type": "code",
      "metadata": {
        "id": "lta9fG6doAfh"
      },
      "source": [
        "'hello world'"
      ],
      "execution_count": null,
      "outputs": []
    },
    {
      "cell_type": "markdown",
      "metadata": {
        "id": "BGYsRd2doAfy"
      },
      "source": [
        "That's the most basic of basic examples, but in the rest of the notebook we'll dive into much more sophisticated applications. To edit any cells, either double-click or press enter.\n",
        "\n",
        "Jupyter isn't the only format that does what we want to do here, others exist like Wolfram Mathematica and Matlab, but Jupyer notebooks are free (as in freedom) and open source, which means you won't ever have to pay liscencing fees to run or share your work."
      ]
    },
    {
      "cell_type": "markdown",
      "metadata": {
        "id": "xY06kupvoAf1"
      },
      "source": [
        "# Data Types <a class=\"anchor\" id=\"data-types\"></a>\n",
        "\n",
        "The primary role of computer programs in physics (and elsewhere) is to manipluate and transform data in ways that would be too tedious or complicated for us to do quickly or reliably. To this end, python has a few builtin data tupes that we'll talk about here."
      ]
    },
    {
      "cell_type": "markdown",
      "metadata": {
        "id": "sJFApJNxoAf1"
      },
      "source": [
        "## Integers\n",
        "Are exactly what they sound like. They're used to represent whole numbers and support all the operations that you'd expect from them. Run these code cells as you go to see the output.\n",
        "\n",
        "We can add:"
      ]
    },
    {
      "cell_type": "code",
      "metadata": {
        "scrolled": true,
        "id": "LcBVsmizoAf3"
      },
      "source": [
        "2 + 2"
      ],
      "execution_count": null,
      "outputs": []
    },
    {
      "cell_type": "markdown",
      "metadata": {
        "id": "ha5HpgUDoAgA"
      },
      "source": [
        "Subtract:\n"
      ]
    },
    {
      "cell_type": "code",
      "metadata": {
        "id": "caM7GrgToAgC"
      },
      "source": [
        "7 - 10"
      ],
      "execution_count": null,
      "outputs": []
    },
    {
      "cell_type": "markdown",
      "metadata": {
        "id": "3wTNSCZfoAgI"
      },
      "source": [
        "Multiply:"
      ]
    },
    {
      "cell_type": "code",
      "metadata": {
        "id": "QfZly06ToAgJ"
      },
      "source": [
        "3 * 4 "
      ],
      "execution_count": null,
      "outputs": []
    },
    {
      "cell_type": "markdown",
      "metadata": {
        "id": "QLw-S8SvoAgR"
      },
      "source": [
        "Exponentiate:"
      ]
    },
    {
      "cell_type": "code",
      "metadata": {
        "scrolled": true,
        "id": "n9bCYQqwoAgS"
      },
      "source": [
        "2**3"
      ],
      "execution_count": null,
      "outputs": []
    },
    {
      "cell_type": "markdown",
      "metadata": {
        "id": "NYC-aWTnoAgY"
      },
      "source": [
        "And Divide"
      ]
    },
    {
      "cell_type": "code",
      "metadata": {
        "id": "GeakMYNYoAgZ"
      },
      "source": [
        "6 / 2"
      ],
      "execution_count": null,
      "outputs": []
    },
    {
      "cell_type": "markdown",
      "metadata": {
        "id": "7fO0psa6oAgf"
      },
      "source": [
        "That last one was sort of weird though, it has a decimal point where the others don't. This is a good segway to our next data type, which are floating point numbers, or floats.\n",
        "\n",
        "## Floats\n",
        "These are used to represent any decimal number with presicion limited by your computer hardware. They support all of the arithmetic operations of intergers which we outlined above, but there are a few special integer operations which aren't supported by floats, like integer division and modulus.\n",
        "\n",
        "You get a float by typing in a number followed by a decimal. In the cell below we demonstarte a calculation. Note that python follows the standard order of operations and that floats and integers are compatible which isn't true of all languages. "
      ]
    },
    {
      "cell_type": "code",
      "metadata": {
        "id": "4h492yJRoAgg"
      },
      "source": [
        "(3 + 4.5) * 0.23 / 3.**2"
      ],
      "execution_count": null,
      "outputs": []
    },
    {
      "cell_type": "markdown",
      "metadata": {
        "id": "e1Iu1DRXoAgl"
      },
      "source": [
        "The last number of the decimal isn't excact and that's because the computer only uses so 16 bits to represent the number with. In most applications floating point presicion isn't an issue on modern computers, but if you'd like to read more or investigate why you sometimes get a funny looking decimal <a href='https://docs.python.org/3.8/tutorial/floatingpoint.html'>the python docs are a good place to start. </a>\n",
        "\n",
        "Note that this means floats often can't be compared like integers."
      ]
    },
    {
      "cell_type": "code",
      "metadata": {
        "id": "b6DG9TthoxCo",
        "colab": {
          "base_uri": "https://localhost:8080/",
          "height": 36
        },
        "outputId": "e1055ca4-1368-414d-a9ea-3467c2d968c2"
      },
      "source": [
        "3.0 == (27.9/9 - 0.1)"
      ],
      "execution_count": null,
      "outputs": [
        {
          "output_type": "execute_result",
          "data": {
            "text/plain": [
              "False"
            ]
          },
          "metadata": {
            "tags": []
          },
          "execution_count": 9
        }
      ]
    },
    {
      "cell_type": "markdown",
      "metadata": {
        "id": "2hhP1kqTpDFs"
      },
      "source": [
        "Instead, we can check if the numbers are within some very small distance of each other by comparing the absoute value of their difference to some very small number."
      ]
    },
    {
      "cell_type": "code",
      "metadata": {
        "id": "5aoF2jDGpWCt",
        "colab": {
          "base_uri": "https://localhost:8080/",
          "height": 36
        },
        "outputId": "9f225921-373d-4796-875d-eaf121d94c7d"
      },
      "source": [
        "abs(3.0 - (27.9/9 - 0.1)) < 10**(-10)"
      ],
      "execution_count": null,
      "outputs": [
        {
          "output_type": "execute_result",
          "data": {
            "text/plain": [
              "True"
            ]
          },
          "metadata": {
            "tags": []
          },
          "execution_count": 10
        }
      ]
    },
    {
      "cell_type": "markdown",
      "metadata": {
        "id": "yyVO6y1RplGH"
      },
      "source": [
        "`abs` is a **function** that returns the absolute value of an int or float, we'll come back to functions later."
      ]
    },
    {
      "cell_type": "markdown",
      "metadata": {
        "id": "j5omSc-6oqTd"
      },
      "source": [
        "## Strings\n",
        "Strings are used to represent text, and they're enclosed in either single or double quotes, depending on if you'd like to use either in your code. The hello world example from before made use of a string.\n",
        "\n",
        "You can also add strings:"
      ]
    },
    {
      "cell_type": "code",
      "metadata": {
        "id": "VU2-aRf_oAgn"
      },
      "source": [
        "'Math ' + 'is fun.'"
      ],
      "execution_count": null,
      "outputs": []
    },
    {
      "cell_type": "markdown",
      "metadata": {
        "id": "hc_un3fkoAgt"
      },
      "source": [
        "or multiply them:"
      ]
    },
    {
      "cell_type": "code",
      "metadata": {
        "id": "PLDfF7I1oAgw"
      },
      "source": [
        "\"over and over \" * 6 + 'over and over.'"
      ],
      "execution_count": null,
      "outputs": []
    },
    {
      "cell_type": "markdown",
      "metadata": {
        "id": "F4yoREmwoAg1"
      },
      "source": [
        "You can also **index** strings or slice them. To get characters of substrings. Note that indeces start at zero, and go up from there. "
      ]
    },
    {
      "cell_type": "code",
      "metadata": {
        "id": "x7S0K--RoAg2"
      },
      "source": [
        "'slice'[2]"
      ],
      "execution_count": null,
      "outputs": []
    },
    {
      "cell_type": "code",
      "metadata": {
        "id": "H4J9RHs1oAg_"
      },
      "source": [
        "\"substring\"[0:3]"
      ],
      "execution_count": null,
      "outputs": []
    },
    {
      "cell_type": "markdown",
      "metadata": {
        "id": "sVd1OVQJoAhF"
      },
      "source": [
        "You can also use negative indeces to go back from the end of a string."
      ]
    },
    {
      "cell_type": "code",
      "metadata": {
        "id": "5bTGT-rooAhF"
      },
      "source": [
        "'backwards'[-5:]"
      ],
      "execution_count": null,
      "outputs": []
    },
    {
      "cell_type": "markdown",
      "metadata": {
        "id": "ub4UmysLUaSk"
      },
      "source": [
        "In the next sections we'll start commenting. Anything with a `#` before it is a comment and will be ignored by python."
      ]
    },
    {
      "cell_type": "markdown",
      "metadata": {
        "id": "je4SHTGaoAhJ"
      },
      "source": [
        "## Lists and Tuples\n",
        "These are used to present collections of objects. Tuples use round brackets  Like strings tuples and lists support indexing, but the way it works is a little bit different."
      ]
    },
    {
      "cell_type": "code",
      "metadata": {
        "scrolled": true,
        "id": "3FVfR5XGoAhK"
      },
      "source": [
        "# List\n",
        "[1, 2, 3, 4][1: 3]"
      ],
      "execution_count": null,
      "outputs": []
    },
    {
      "cell_type": "code",
      "metadata": {
        "id": "uD9IXC47oAhS"
      },
      "source": [
        "# Tuple, indexed like we indexed the strings\n",
        "(\"here\", \"are\", \"some\", \"words\")[2:]"
      ],
      "execution_count": null,
      "outputs": []
    },
    {
      "cell_type": "markdown",
      "metadata": {
        "id": "mljKqVPDoAhW"
      },
      "source": [
        "There are more differences and the main one is that the contents of lists can be changed after they are created, but the contents of a tuple cannot. This is because of the way python represents both data types. \n",
        "\n",
        "You can also and and myultiply lists and tumples like you can with strings:"
      ]
    },
    {
      "cell_type": "code",
      "metadata": {
        "id": "Oe39RIvyNl4f",
        "colab": {
          "base_uri": "https://localhost:8080/",
          "height": 36
        },
        "outputId": "8c951fb2-2b33-4110-8ecb-ae1aa1e4c464"
      },
      "source": [
        "[1, 2] + [3, 4]"
      ],
      "execution_count": null,
      "outputs": [
        {
          "output_type": "execute_result",
          "data": {
            "text/plain": [
              "[1, 2, 3, 4]"
            ]
          },
          "metadata": {
            "tags": []
          },
          "execution_count": 1
        }
      ]
    },
    {
      "cell_type": "code",
      "metadata": {
        "id": "0FsLFmUUN3AV",
        "colab": {
          "base_uri": "https://localhost:8080/",
          "height": 36
        },
        "outputId": "d396f42e-705b-41a1-b50c-5b478637a8c0"
      },
      "source": [
        "(1, 2)*3"
      ],
      "execution_count": null,
      "outputs": [
        {
          "output_type": "execute_result",
          "data": {
            "text/plain": [
              "(1, 2, 1, 2, 1, 2)"
            ]
          },
          "metadata": {
            "tags": []
          },
          "execution_count": 2
        }
      ]
    },
    {
      "cell_type": "markdown",
      "metadata": {
        "id": "bQsHbDxZoAhW"
      },
      "source": [
        "## Booleans\n",
        "Booleans are probably the simplest data type. They can be either True or False. You get them by putting logical statements into python. For example, booleans come up when you compare numbers using equalities and inequalities."
      ]
    },
    {
      "cell_type": "code",
      "metadata": {
        "id": "T2DfTyj5oAhj"
      },
      "source": [
        "1 < 2"
      ],
      "execution_count": null,
      "outputs": []
    },
    {
      "cell_type": "code",
      "metadata": {
        "id": "0Ghts17NoAho"
      },
      "source": [
        "3 >= 4"
      ],
      "execution_count": null,
      "outputs": []
    },
    {
      "cell_type": "code",
      "metadata": {
        "id": "IlSxkb0OoAhs"
      },
      "source": [
        "5 != 2 + 3"
      ],
      "execution_count": null,
      "outputs": []
    },
    {
      "cell_type": "code",
      "metadata": {
        "id": "WOSEeJRZoAhx"
      },
      "source": [
        "3*3 == 9"
      ],
      "execution_count": null,
      "outputs": []
    },
    {
      "cell_type": "markdown",
      "metadata": {
        "id": "7T_xLb9QKAWm"
      },
      "source": [
        "Booleans also have logical operators `and` and `or`. These let you eveluate the truth of boolean expressions strung together"
      ]
    },
    {
      "cell_type": "code",
      "metadata": {
        "id": "Auy4e6tFKVAR"
      },
      "source": [
        "2 < 3 or 5 == 1"
      ],
      "execution_count": null,
      "outputs": []
    },
    {
      "cell_type": "markdown",
      "metadata": {
        "id": "kWKQnhv5KcJ9"
      },
      "source": [
        "In the case of `or`, only one side needs to be true to return `True`, but in the case of `and` both beed be true to return `True`."
      ]
    },
    {
      "cell_type": "code",
      "metadata": {
        "id": "plMLi5YToAhd"
      },
      "source": [
        "True or False"
      ],
      "execution_count": null,
      "outputs": []
    },
    {
      "cell_type": "code",
      "metadata": {
        "id": "bjikMF8poAhX"
      },
      "source": [
        "True and False"
      ],
      "execution_count": null,
      "outputs": []
    },
    {
      "cell_type": "markdown",
      "metadata": {
        "id": "0HgcMwmsoAh5"
      },
      "source": [
        "You can also use the equality operator for any data type. Something interestion about that last bit of syntax is the fact that two eqials signs were used. One equals sign means something completely different in python, which we'll cover in the next section.\n"
      ]
    },
    {
      "cell_type": "markdown",
      "metadata": {
        "id": "TpNTeD0DgTmV"
      },
      "source": [
        "## None type\n",
        "Well, actually booleans arent the simplest because we also have none type. It takes one value and has no operators. It will still crop up in code sometimes, so it's useful to at least know of it. It will crop up later in an example and can be set to a variable just like any other object."
      ]
    },
    {
      "cell_type": "code",
      "metadata": {
        "id": "xRpZHqk9gj2_"
      },
      "source": [
        "# This is None\n",
        "None"
      ],
      "execution_count": null,
      "outputs": []
    },
    {
      "cell_type": "markdown",
      "metadata": {
        "id": "9DXpg-jLoAh6"
      },
      "source": [
        "# Variables and Assignment\n",
        "\n",
        "All of this data representation is useless if we can't store and manipulate information. This is where variable assignment comes in, and the syntax is very similar to what you would do in an actual physics problem. If the last line of the cell is a variable, the output of the cell will be whatever object that variable is pointing to."
      ]
    },
    {
      "cell_type": "code",
      "metadata": {
        "id": "YJIh-B0doAh7"
      },
      "source": [
        "minutes_in_a_day = 24*60*60\n",
        "minutes_in_a_day"
      ],
      "execution_count": null,
      "outputs": []
    },
    {
      "cell_type": "markdown",
      "metadata": {
        "id": "4n2kp8BGoAiA"
      },
      "source": [
        "### Mutable and Immutable Data\n",
        "Some objects can be changed after assignment because of how python memory management is deigned. This is mostly up to experimentation, and there's subltely and nuance that I won't explain here."
      ]
    },
    {
      "cell_type": "code",
      "metadata": {
        "id": "V8bIekNSoAiA"
      },
      "source": [
        "# integers cannot be mutated\n",
        "a = 1\n",
        "b = a\n",
        "a += 1\n",
        "\n",
        "print(a)\n",
        "print(b)\n",
        "\n",
        "# lists can though\n",
        "l1 = [1, 2, 3]\n",
        "l2 = l1\n",
        "l1 += [4]\n",
        "\n",
        "print(l1)\n",
        "print(l2)"
      ],
      "execution_count": null,
      "outputs": []
    },
    {
      "cell_type": "markdown",
      "metadata": {
        "id": "jly6n39SoAiG"
      },
      "source": [
        "The `+=` operator tells python to take the original variable and add whatever's on the other side. In most cases `a = a + 1` and `a += 1` are identical, but not with lists ans other mutable data. As a rule of thumb, the only mutable data typbe we've introduced up to now are lists.\n"
      ]
    },
    {
      "cell_type": "markdown",
      "metadata": {
        "id": "-BXkdPsjoAiH"
      },
      "source": [
        "# Basic Syntax\n",
        "\n",
        "Now we're ready to start writing some very basic scripts, but we'll still be very limited in what we can do. There are two bits of syntax that I'd like to go over in this section and they'll both use boleans to some degree.\n",
        "\n",
        "\n",
        "## Errors\n",
        "You can write any text, save it as a .py file and run it if you have python installed. There's nothing stopping you from doing that, but it very likely will not run. If python runs into an issue in the syntax and cannot interpret what you've written it will stop the program and do it's best to tell you why and where it stopped in the form of an error report. Run the cell below to see what I mean. Can you spot the mistake before it runs?"
      ]
    },
    {
      "cell_type": "code",
      "metadata": {
        "id": "Qm0VQubvLPF1",
        "colab": {
          "base_uri": "https://localhost:8080/",
          "height": 253
        },
        "outputId": "b692bb82-2aec-4792-cf34-d892995e5c6d"
      },
      "source": [
        "a = 1\n",
        "b = 'two'\n",
        "c = a + b\n",
        "\n",
        "print(c)"
      ],
      "execution_count": null,
      "outputs": [
        {
          "output_type": "error",
          "ename": "TypeError",
          "evalue": "ignored",
          "traceback": [
            "\u001b[0;31m---------------------------------------------------------------------------\u001b[0m",
            "\u001b[0;31mTypeError\u001b[0m                                 Traceback (most recent call last)",
            "\u001b[0;32m<ipython-input-3-731d6a764255>\u001b[0m in \u001b[0;36m<module>\u001b[0;34m()\u001b[0m\n\u001b[1;32m      1\u001b[0m \u001b[0ma\u001b[0m \u001b[0;34m=\u001b[0m \u001b[0;36m1\u001b[0m\u001b[0;34m\u001b[0m\u001b[0;34m\u001b[0m\u001b[0m\n\u001b[1;32m      2\u001b[0m \u001b[0mb\u001b[0m \u001b[0;34m=\u001b[0m \u001b[0;34m'two'\u001b[0m\u001b[0;34m\u001b[0m\u001b[0;34m\u001b[0m\u001b[0m\n\u001b[0;32m----> 3\u001b[0;31m \u001b[0mc\u001b[0m \u001b[0;34m=\u001b[0m \u001b[0ma\u001b[0m \u001b[0;34m+\u001b[0m \u001b[0mb\u001b[0m\u001b[0;34m\u001b[0m\u001b[0;34m\u001b[0m\u001b[0m\n\u001b[0m\u001b[1;32m      4\u001b[0m \u001b[0;34m\u001b[0m\u001b[0m\n\u001b[1;32m      5\u001b[0m \u001b[0mprint\u001b[0m\u001b[0;34m(\u001b[0m\u001b[0mc\u001b[0m\u001b[0;34m)\u001b[0m\u001b[0;34m\u001b[0m\u001b[0;34m\u001b[0m\u001b[0m\n",
            "\u001b[0;31mTypeError\u001b[0m: unsupported operand type(s) for +: 'int' and 'str'"
          ]
        }
      ]
    },
    {
      "cell_type": "markdown",
      "metadata": {
        "id": "tVlxhBvyLWFy"
      },
      "source": [
        "Python is great, <a href=\"https://www.wolframalpha.com/input/?i=1+%2B+two\"> but it's not quite Wolfram|Alpha </a> and doesn't do that whole natural language processing thing. This means that you can't really add ints to strings (unfortunately)."
      ]
    },
    {
      "cell_type": "markdown",
      "metadata": {
        "id": "0w3NU4zCoAiI"
      },
      "source": [
        "## if/else blocks\n",
        "Sometimes you'll only want code to be executed given certain conditions, basically if x: do y, else do z. It can also help us catch errors in our code. Trying to divide by zero is impossible:"
      ]
    },
    {
      "cell_type": "code",
      "metadata": {
        "id": "5sGAigfDoAiI"
      },
      "source": [
        "# Run this without changing and see what happens\n",
        "numerator = 1\n",
        "denominator = 0\n",
        "\n",
        "numerator / denominator"
      ],
      "execution_count": null,
      "outputs": []
    },
    {
      "cell_type": "markdown",
      "metadata": {
        "id": "bHKpRbPmoAiL"
      },
      "source": [
        "We can check to see if `denominator` is valid using an if/else block (the print statement is nececcary to see the output here):"
      ]
    },
    {
      "cell_type": "code",
      "metadata": {
        "id": "99ZAhvBioAiM"
      },
      "source": [
        "# Set variables to divide\n",
        "denominator = 0\n",
        "numerator = 1\n",
        "\n",
        "# Check if we may get an error\n",
        "if denominator != 0:\n",
        "    answer = numerator/denominator\n",
        "    print(answer)\n",
        "else:\n",
        "    print(\"Can't divide by zero\")"
      ],
      "execution_count": null,
      "outputs": []
    },
    {
      "cell_type": "markdown",
      "metadata": {
        "id": "NvWhbTraoAiQ"
      },
      "source": [
        "Indent the block of code that you would like to be covered by the if/else block. If there are many conditions you would like to check you can link them together as booleans with the `and` and `or` operators.\n",
        "\n",
        "## Loops\n",
        "Sometimes there's code that you'd like to run over and over. It would be tedious to copy and paste lines, which is why we have loops. Once you are in a loop the code excecutes until a certain condition is met. There are two types, for loops and while loops. \n",
        "\n",
        "While loops start with a condition and the loop keeps repeating until the conditon if met. The condition is only checked at the start of the loop. Below is a very simple loop. Try changing `number` to examine the condition. \n",
        "\n",
        "I'll use the print function which I'll cover in the next section to output number in every loop."
      ]
    },
    {
      "cell_type": "code",
      "metadata": {
        "scrolled": true,
        "id": "iQxwZv3loAiS"
      },
      "source": [
        "number = 0\n",
        "\n",
        "while number < 10:\n",
        "    number = number + 1\n",
        "    print(number)\n",
        "\n",
        "number"
      ],
      "execution_count": null,
      "outputs": []
    },
    {
      "cell_type": "markdown",
      "metadata": {
        "id": "f6N9QMbZoAiV"
      },
      "source": [
        "**For Loops** work over iterables, or objects with multiple elements like strings or lists. "
      ]
    },
    {
      "cell_type": "code",
      "metadata": {
        "id": "vHzRqZR_oAiW"
      },
      "source": [
        "word = 'letters'\n",
        "some_words = ['here', 'are', 'some', 'words']\n",
        "\n",
        "for letter in word:\n",
        "    print(letter)\n",
        "\n",
        "for word in some_words:\n",
        "    print(word)"
      ],
      "execution_count": null,
      "outputs": []
    },
    {
      "cell_type": "markdown",
      "metadata": {
        "id": "kRj5NveioAiZ"
      },
      "source": [
        "In the loop, each item in the iterable is assigned to the variable at the top. In the case of the first for loop, the variable is `word` which takes the value of each item in `some_words`. What do you think the variable `word` refers to after this code excecutes?\n",
        "\n",
        "Using indexing, think about how you could change both of the above for loops into a while loop."
      ]
    },
    {
      "cell_type": "markdown",
      "metadata": {
        "id": "fPI_PdhooAia"
      },
      "source": [
        "# Functions and Methods\n",
        "\n",
        "You may already be thinking about useful physics things that you could do with the things that we've covered. You can save processes that are useful in objects called functions. They're very similar to mathematical functions in that they can take arguments and return an output. You've aready seen the print function, but here's the syntax for defining a very simple one."
      ]
    },
    {
      "cell_type": "code",
      "metadata": {
        "id": "sx_yVqimoAib",
        "colab": {
          "base_uri": "https://localhost:8080/",
          "height": 36
        },
        "outputId": "0480ba7b-76a8-4fda-a53c-d12a6d0295cd"
      },
      "source": [
        "def days_to_seconds(days):\n",
        "    seconds = days*24*60*60\n",
        "    return seconds\n",
        "\n",
        "# def days_to_minutes(days):\n",
        "#     minutes = days*24*60\n",
        "#     return minutes\n",
        "\n",
        "minutes = days_to_seconds(4)/60\n",
        "minutes"
      ],
      "execution_count": null,
      "outputs": [
        {
          "output_type": "execute_result",
          "data": {
            "text/plain": [
              "5760.0"
            ]
          },
          "metadata": {
            "tags": []
          },
          "execution_count": 28
        }
      ]
    },
    {
      "cell_type": "markdown",
      "metadata": {
        "id": "fv3tMTp6oAie"
      },
      "source": [
        "Functions aren't just limited to one argument either, and if you want to write a description of your function, you can enclose it in triple quotes after the header."
      ]
    },
    {
      "cell_type": "code",
      "metadata": {
        "id": "JqYLc7-eoAie",
        "colab": {
          "base_uri": "https://localhost:8080/",
          "height": 36
        },
        "outputId": "5ade8da4-77ab-4c90-b9af-db29831d3388"
      },
      "source": [
        "def compute_hypotenuse(a: int, b: int):\n",
        "    \"\"\"Return the hypotenuse of a triangle with short\n",
        "    sides a and b\n",
        "    \"\"\"\n",
        "    return (a**2 + b**2)**(1/2)\n",
        "\n",
        "compute_hypotenuse(3, 4)"
      ],
      "execution_count": null,
      "outputs": [
        {
          "output_type": "execute_result",
          "data": {
            "text/plain": [
              "5.0"
            ]
          },
          "metadata": {
            "tags": []
          },
          "execution_count": 39
        }
      ]
    },
    {
      "cell_type": "markdown",
      "metadata": {
        "id": "WbknAbaRoAik"
      },
      "source": [
        "## Useful built in Functions\n",
        "Python has a few functions built in already and some are particularly useful.\n",
        "\n",
        "The print function is the easiest way to output the value of something while your code is running and normally (in a regular python file) it's the easiest way to get quick results from the command line. It also lets you get multiple outputs of a cell here."
      ]
    },
    {
      "cell_type": "code",
      "metadata": {
        "id": "s_-HdOww_qOw"
      },
      "source": [
        "smash_characters = ['Mario', 'Jigglypuff', 'Shiek', 'Fox', 'Shulk', 'Steve']\n",
        "\n",
        "for character in smash_characters:\n",
        "    print(character)"
      ],
      "execution_count": null,
      "outputs": []
    },
    {
      "cell_type": "markdown",
      "metadata": {
        "id": "oyMeB0WcEXN2"
      },
      "source": [
        "In this case, the print function prints every string in the list as I feed it into print. Print is also useful for debugging because you can find the value of a variable in the middle of your code to see if it's erroneous."
      ]
    },
    {
      "cell_type": "markdown",
      "metadata": {
        "id": "e06eS1OZEiSV"
      },
      "source": [
        "When writing for loops, it's sometimes useful to go over indexes of a certain object instead of the actual elements in the object. In the next example I'm going to use three builtin functions: len and range and str."
      ]
    },
    {
      "cell_type": "code",
      "metadata": {
        "id": "ZJIe8av2FJK_",
        "colab": {
          "base_uri": "https://localhost:8080/",
          "height": 206
        },
        "outputId": "4c71a8dd-5fab-4f27-decf-cdc68493b571"
      },
      "source": [
        "birth_year = [1643, 1918, 1844, 1882, 1879]\n",
        "physicist = ['Newton', 'Feynman', 'Boltzmann', 'Noether', 'Einstein']\n",
        "\n",
        "for i in range(len(birth_year)):\n",
        "    print(i)\n",
        "    print(f'{physicist[i]} was born in {birth_year[i]}')"
      ],
      "execution_count": null,
      "outputs": [
        {
          "output_type": "stream",
          "text": [
            "0\n",
            "Newton was born in 1643\n",
            "1\n",
            "Feynman was born in 1918\n",
            "2\n",
            "Boltzmann was born in 1844\n",
            "3\n",
            "Noether was born in 1882\n",
            "4\n",
            "Einstein was born in 1879\n"
          ],
          "name": "stdout"
        }
      ]
    },
    {
      "cell_type": "markdown",
      "metadata": {
        "id": "-57Bm2RXGtQW"
      },
      "source": [
        "In this example, we used the range function to get us number i from 0 up to but not including the number that we get by applying len to birth_year, which is 5. This lets us index to two lists together and extract the information we want from them. Finally the str function converts any object into a string representation of that object so it can be added to other strings.\n",
        "\n",
        "There are other builtin functions and [a full list can be found here](https://docs.python.org/3/library/functions.html)\n",
        "\n",
        "if you ever want to know about a function you can call `help(function)`"
      ]
    },
    {
      "cell_type": "code",
      "metadata": {
        "id": "XsIcR6ApK7oG",
        "colab": {
          "base_uri": "https://localhost:8080/",
          "height": 262
        },
        "outputId": "e632f708-f5ee-4f84-e9c4-07dc72a864f5"
      },
      "source": [
        "# Like with the len function\n",
        "print(help(len))\n",
        "\n",
        "# Or the function we wrote already\n",
        "print(help(compute_hypotenuse))"
      ],
      "execution_count": null,
      "outputs": [
        {
          "output_type": "stream",
          "text": [
            "Help on built-in function len in module builtins:\n",
            "\n",
            "len(obj, /)\n",
            "    Return the number of items in a container.\n",
            "\n",
            "None\n",
            "Help on function compute_hypotenuse in module __main__:\n",
            "\n",
            "compute_hypotenuse(a, b)\n",
            "    Return the hypotenuse of a triangle with short\n",
            "    sides a and b\n",
            "\n",
            "None\n"
          ],
          "name": "stdout"
        }
      ]
    },
    {
      "cell_type": "code",
      "metadata": {
        "id": "an0BTbjJWWDP",
        "colab": {
          "base_uri": "https://localhost:8080/",
          "height": 55
        },
        "outputId": "48ab9406-bce7-46e9-95d9-1846a86b911d"
      },
      "source": [
        "def days_to_seconds(days):\n",
        "    seconds = days*24*60*60\n",
        "    return seconds\n",
        "\n",
        "days = int(input(\"Input days: \"))\n",
        "print(days_to_seconds(days))"
      ],
      "execution_count": null,
      "outputs": [
        {
          "output_type": "stream",
          "text": [
            "Input days: 5\n",
            "432000\n"
          ],
          "name": "stdout"
        }
      ]
    },
    {
      "cell_type": "markdown",
      "metadata": {
        "id": "DVmOeNWSoAii"
      },
      "source": [
        "## Methods\n",
        "\n",
        "Methods are like functions but they operate on certain objects. Creating your own methods is beyond the scope of this tutorial, but we'll highlight a few and see how they work.\n"
      ]
    },
    {
      "cell_type": "code",
      "metadata": {
        "id": "GESThpye7bK1",
        "colab": {
          "base_uri": "https://localhost:8080/",
          "height": 36
        },
        "outputId": "14a6d71b-0e24-4cf9-b494-45c36bf5653c"
      },
      "source": [
        "# A string method\n",
        "a = 'banana'\n",
        "b = a.replace('a', 'n')\n",
        "b"
      ],
      "execution_count": null,
      "outputs": [
        {
          "output_type": "execute_result",
          "data": {
            "application/vnd.google.colaboratory.intrinsic+json": {
              "type": "string"
            },
            "text/plain": [
              "'bnnnnn'"
            ]
          },
          "metadata": {
            "tags": []
          },
          "execution_count": 25
        }
      ]
    },
    {
      "cell_type": "markdown",
      "metadata": {
        "id": "XheU3XBH7qvQ"
      },
      "source": [
        "The replace method works on a string, and returns a new string whith all the instances of the first string replaced with the second string. Note that this doesn't change the string that a refers to, it creates a new one. We can do it with bigger substrings too."
      ]
    },
    {
      "cell_type": "code",
      "metadata": {
        "id": "mNEqDCw49nr1"
      },
      "source": [
        "'one two one two'.replace('one', 'two')"
      ],
      "execution_count": null,
      "outputs": []
    },
    {
      "cell_type": "markdown",
      "metadata": {
        "id": "VELw_iGU-bj3"
      },
      "source": [
        "Remember how I said that lists can be changed? There are also methods to help with that."
      ]
    },
    {
      "cell_type": "code",
      "metadata": {
        "id": "7BsHWL4Y-wHd",
        "colab": {
          "base_uri": "https://localhost:8080/",
          "height": 36
        },
        "outputId": "aae122c2-6250-4c55-8ead-76d7ba418d73"
      },
      "source": [
        "shopping_list = ['bread', 'eggs', 'milk']\n",
        "shopping_list.append('cheese')\n",
        "shopping_list"
      ],
      "execution_count": null,
      "outputs": [
        {
          "output_type": "execute_result",
          "data": {
            "text/plain": [
              "['bread', 'eggs', 'milk', 'cheese']"
            ]
          },
          "metadata": {
            "tags": []
          },
          "execution_count": 26
        }
      ]
    },
    {
      "cell_type": "markdown",
      "metadata": {
        "id": "uJTVZx2A--0l"
      },
      "source": [
        "The append method let us add an element. Note that thet append method doesn't return anything, and we don't need a variable assignment for it to work. If instead we tried:"
      ]
    },
    {
      "cell_type": "code",
      "metadata": {
        "id": "-IlPW5tpg-0l"
      },
      "source": [
        "shopping_list = ['bread', 'eggs', 'milk']\n",
        "shopping_list = shopping_list.append('cheese')\n",
        "print(shopping_list)"
      ],
      "execution_count": null,
      "outputs": []
    },
    {
      "cell_type": "markdown",
      "metadata": {
        "id": "rTIYMcbhhGoY"
      },
      "source": [
        "`shopping_list` is None, why does that heppen?"
      ]
    },
    {
      "cell_type": "markdown",
      "metadata": {
        "id": "ffimynALoAim"
      },
      "source": [
        "# Importing Packages\n",
        "\n",
        "Writing your own code is great, but wouldn't it be great if you could save youself hours of programming work with a little bit of googling and experimenting? Adding and multiplying numbers is all fine, but say you wanted to do use a trigonometric function. That's where packages come in, they let you __import__ functions and variables into your code. If I wanted to compute $\\cos(2\\pi/3)$ I could write a function, define pi and output the result."
      ]
    },
    {
      "cell_type": "code",
      "metadata": {
        "id": "qNUDoiykoAim",
        "colab": {
          "base_uri": "https://localhost:8080/",
          "height": 36
        },
        "outputId": "d192a967-5e94-4b78-c6ba-ce89287b2bec"
      },
      "source": [
        "pi = 3.14159265\n",
        "\n",
        "def cos(theta):\n",
        "    # Coding practice, if we wanted to use this function elsewhere, \n",
        "    # we don't know if pi is necissarily defined in the namespace yet.\n",
        "    pi = 3.14159265\n",
        "\n",
        "    # look up the modulo operator.\n",
        "    # This puts theta in the set [-pi, pi) because cos is periodic, \n",
        "    # and it's necessary for the next step to work over all reals\n",
        "    theta = (theta + pi) % (2*pi) - pi\n",
        "    \n",
        "    # I'm using the cosine taylor series: it's what most computers do (I think)\n",
        "    return 1 - theta**2/2 + theta**4/24 - theta**6/720 + theta**8/40320 - theta**10/3628800\n",
        "\n",
        "cos(2*pi/3)"
      ],
      "execution_count": null,
      "outputs": [
        {
          "output_type": "execute_result",
          "data": {
            "text/plain": [
              "-0.5000145178470978"
            ]
          },
          "metadata": {
            "tags": []
          },
          "execution_count": 42
        }
      ]
    },
    {
      "cell_type": "markdown",
      "metadata": {
        "id": "S6dCY-5zoAiq"
      },
      "source": [
        "Now, there's nothing strictly wrong with this code. It's accurate to 1 part in 50,000 and we could make it more accurate by extending our Taylor series and defining $\\pi$ with more decimals. But the implementation requires some sophisticated math. We could just use prewritten code, like the pi variable and the cos function in the math module. "
      ]
    },
    {
      "cell_type": "code",
      "metadata": {
        "id": "rl6WeQgZoAir",
        "colab": {
          "base_uri": "https://localhost:8080/",
          "height": 36
        },
        "outputId": "c6840c40-c74b-4258-919a-f9d50c6c12c8"
      },
      "source": [
        "from math import cos, pi\n",
        "\n",
        "cos(2*pi/3)"
      ],
      "execution_count": null,
      "outputs": [
        {
          "output_type": "execute_result",
          "data": {
            "text/plain": [
              "-0.4999999999999998"
            ]
          },
          "metadata": {
            "tags": []
          },
          "execution_count": 43
        }
      ]
    },
    {
      "cell_type": "markdown",
      "metadata": {
        "id": "GyyB-asKoAit"
      },
      "source": [
        "This simple example illustrates that importing code is necessary for a lot of elementary applications. There are a few other ways to import. You can import the whole package into your namespace using the wildcard `*` (anybody who knows bash should be very familiar with this one)."
      ]
    },
    {
      "cell_type": "code",
      "metadata": {
        "id": "6Q70RhfKoAit",
        "colab": {
          "base_uri": "https://localhost:8080/",
          "height": 36
        },
        "outputId": "7ea5111f-c6c6-41f0-8e35-d95e8b40e768"
      },
      "source": [
        "from math import *\n",
        "\n",
        "sqrt(sin(tau/4))"
      ],
      "execution_count": null,
      "outputs": [
        {
          "output_type": "execute_result",
          "data": {
            "text/plain": [
              "1.0"
            ]
          },
          "metadata": {
            "tags": []
          },
          "execution_count": 41
        }
      ]
    },
    {
      "cell_type": "markdown",
      "metadata": {
        "id": "SfUomwm3oAiw"
      },
      "source": [
        "We didn't specifically ask for `sqrt`, `sin` or `tau`, but it turns out they're all either functions or variables in the math package. When we write `import *` we import everything from that package into our program. This is generally considered sloppy practice, and should be avioded because it can be memory intensive and you can't really keep track of what variables are in your main namespace. But it's good for quick jobs, and I use it often to share functions between files which I've written myself.\n",
        "\n",
        "The third option is considered best practice if you want to import a whole package."
      ]
    },
    {
      "cell_type": "code",
      "metadata": {
        "id": "JRXnuAfwoAix",
        "colab": {
          "base_uri": "https://localhost:8080/",
          "height": 36
        },
        "outputId": "ccbf487a-52ec-42ca-a34f-0570c9c1b31e"
      },
      "source": [
        "import math as m\n",
        "\n",
        "m.tan(m.e)"
      ],
      "execution_count": null,
      "outputs": [
        {
          "output_type": "execute_result",
          "data": {
            "text/plain": [
              "-0.4505495340698077"
            ]
          },
          "metadata": {
            "tags": []
          },
          "execution_count": 44
        }
      ]
    },
    {
      "cell_type": "markdown",
      "metadata": {
        "id": "sP0RtTZOoAi1"
      },
      "source": [
        "Now you can access everything in the math package, and there's no chance of accidentally overwriting one of the functions or variables you imported."
      ]
    },
    {
      "cell_type": "markdown",
      "metadata": {
        "id": "2sHuL7NLvv5S"
      },
      "source": [
        "# Solving Problems with basic python\n",
        "\n",
        "We now have all the tools we need to start solving basic physics problems. As an introduction to computational physics, we'll start wih a simple problem. Consider a ball dropped from height h. How long does the ball take to hit the ground?\n",
        "\n",
        "Normally we'd set up a kinematic algebraic equation and solve to find find that \n",
        "$$\n",
        "t = \\sqrt{\\frac{2h}{g}}\n",
        "$$\n",
        "But it turns out for many physical applications a closed form analytic solution like this isn't actually possible (which means you can't write it on paper using basic functions). To this end, we can simulate the velocity and position of the ball and **time evolve** the quantities. \n",
        "\n",
        "Consider a particle with position $x(t)$, and velocity $v(t)$, accelerating at acceleration $a$. If we took a very small timestep $\\Delta t$ we can write an equation for velocity as\n",
        "$$\n",
        "v(t+\\Delta t) = v(t) + a\\Delta t\n",
        "$$\n",
        "And we can write our position as \n",
        "$$\n",
        "x(t + \\Delta t) = x(t) + v(t)\\Delta t + \\frac{1}{2}a \\Delta t^2\n",
        "$$\n",
        "\n",
        "Thinking about that last equation for position, since $\\Delta t$ is very small, $\\Delta t^2$ is very very small (I promise these are technical terms). Because $\\Delta t^2$ is small compared to $\\Delta t$ we can neglect it and approximate our position equation as\n",
        "$$\n",
        "x(t + \\Delta t) \\approx x(t) + v(t)\\Delta t\n",
        "$$\n",
        "\n",
        "In other terms, if we know some $v_1$ and $x_1$ at time $t_1$ for some particle accelerating with acceleration $a$ we can compute the time, velocity and position, $t_2$, $v_2$ and $x_2$, at some small time later as\n",
        "$$\n",
        "v_2 = v_1 + a\\Delta t \\\\\n",
        "x_2 = x_1 + v_1\\Delta t \\\\\n",
        "t_2 = t_1 + \\Delta t\n",
        "$$ \n",
        "\n",
        "\n",
        "For our actual ball, we'll start with $t=0 \\, \\text{s}$, $x = h$, $v = 0 \\, \\text{m/s}$, and $a = -9.8 \\, \\text{m/s}^2$. Once we'll set these variables, we'll run a while loop that will update our position, velocity and time until position is less than zero (so the ball has gone slightly past the ground). Once the loop exits we'll print the time and compare to the analytic solution. In the cell below we set $h = 10 \\, m$ for our initial $x$ position and run:"
      ]
    },
    {
      "cell_type": "code",
      "metadata": {
        "id": "Jtc7kB_p86BP",
        "colab": {
          "base_uri": "https://localhost:8080/",
          "height": 55
        },
        "outputId": "f5185dd6-0edc-495c-841b-4201f698aed9"
      },
      "source": [
        "# Assign initial conditions\n",
        "x = 10\n",
        "v = 0\n",
        "t = 0\n",
        "a = -9.8\n",
        "delta_t = 0.01\n",
        "\n",
        "# Compute the solution to compare against\n",
        "actual_solution = (2*x/(-a))**0.5\n",
        "\n",
        "# Run a loop\n",
        "while x > 0:\n",
        "    v = v + a * delta_t\n",
        "    x = x + v * delta_t\n",
        "    t = t + delta_t\n",
        "\n",
        "# Print outputs an compare\n",
        "print('Simulated Time ' + str(t))\n",
        "print('Analytic Time ' + str(actual_solution))"
      ],
      "execution_count": null,
      "outputs": [
        {
          "output_type": "stream",
          "text": [
            "Simulated Time 1.430000000000001\n",
            "Analytic Time 1.4285714285714286\n"
          ],
          "name": "stdout"
        }
      ]
    },
    {
      "cell_type": "markdown",
      "metadata": {
        "id": "kpEjF_iwDvUp"
      },
      "source": [
        "If we make our timestep smaller, it will cause our code to take more time, but it will give us a more accurate result. Don't make it too small, or your code will take far too long to run."
      ]
    },
    {
      "cell_type": "markdown",
      "metadata": {
        "id": "l0zS_2i5JWUQ"
      },
      "source": [
        "As an easy first problem, try coding a block that will print the nth fibonacci number."
      ]
    },
    {
      "cell_type": "code",
      "metadata": {
        "id": "P0gJOfHYJdif"
      },
      "source": [
        "### Your Code ###"
      ],
      "execution_count": null,
      "outputs": []
    },
    {
      "cell_type": "markdown",
      "metadata": {
        "id": "lyF9hSvwoAi1"
      },
      "source": [
        "# Numpy\n",
        "\n",
        "If anyone asks what the king of packages in any scientific application of python the only real answer is numpy (pronounced num-pie, not num-pee). \n",
        "\n",
        "Not only does numpy give a suite of tools that are lightning fast and relatively easy to use for numerical computations, but most other packages that are used for scientific computing are built directly onto numpy. I'll take this section to go over the ubiquitous array that the package provides as well as some useful functions.\n",
        "\n"
      ]
    },
    {
      "cell_type": "markdown",
      "metadata": {
        "id": "erahUNC4BRVC"
      },
      "source": [
        "## The Array"
      ]
    },
    {
      "cell_type": "code",
      "metadata": {
        "id": "lzFlfZkEoAi2",
        "colab": {
          "base_uri": "https://localhost:8080/",
          "height": 74
        },
        "outputId": "97b93a84-fdf1-40e9-9c6d-35c207d7bc44"
      },
      "source": [
        " # This is how everyone imports numpy\n",
        "import numpy as np\n",
        "\n",
        "a = np.array([1, 2, 3])\n",
        "b = np.array([3, 1, 2])\n",
        "\n",
        "# Some array operations:\n",
        "print(a + b)\n",
        "print(2*a)\n",
        "print(a < 2)"
      ],
      "execution_count": null,
      "outputs": [
        {
          "output_type": "stream",
          "text": [
            "[4 3 5]\n",
            "[2 4 6]\n",
            "[ True False False]\n"
          ],
          "name": "stdout"
        }
      ]
    },
    {
      "cell_type": "markdown",
      "metadata": {
        "id": "UW94kqvyDGSa"
      },
      "source": [
        "Arrays are used to represent collections of numbers in a certain shape and are pretty ubuquitos in scientific computation. Generally, any numerical data can be represented as an array if a single number wont do. If I wanted a relationship between a x and y, I could create an array of x's and apply a function to generate y's. I'll also use the `linspace` function to generate evenly spaced points."
      ]
    },
    {
      "cell_type": "code",
      "metadata": {
        "id": "WM1K2trjRNtz",
        "colab": {
          "base_uri": "https://localhost:8080/",
          "height": 225
        },
        "outputId": "1fae8d6d-82da-4a9f-e527-2c1cef114cda"
      },
      "source": [
        "x = np.arange(0, 5, 0.1)\n",
        "\n",
        "def f(x):\n",
        "    return x**2\n",
        "\n",
        "y = f(x)\n",
        "\n",
        "print(x)\n",
        "print(y)"
      ],
      "execution_count": null,
      "outputs": [
        {
          "output_type": "stream",
          "text": [
            "[0.  0.1 0.2 0.3 0.4 0.5 0.6 0.7 0.8 0.9 1.  1.1 1.2 1.3 1.4 1.5 1.6 1.7\n",
            " 1.8 1.9 2.  2.1 2.2 2.3 2.4 2.5 2.6 2.7 2.8 2.9 3.  3.1 3.2 3.3 3.4 3.5\n",
            " 3.6 3.7 3.8 3.9 4.  4.1 4.2 4.3 4.4 4.5 4.6 4.7 4.8 4.9]\n",
            "[0.000e+00 1.000e-02 4.000e-02 9.000e-02 1.600e-01 2.500e-01 3.600e-01\n",
            " 4.900e-01 6.400e-01 8.100e-01 1.000e+00 1.210e+00 1.440e+00 1.690e+00\n",
            " 1.960e+00 2.250e+00 2.560e+00 2.890e+00 3.240e+00 3.610e+00 4.000e+00\n",
            " 4.410e+00 4.840e+00 5.290e+00 5.760e+00 6.250e+00 6.760e+00 7.290e+00\n",
            " 7.840e+00 8.410e+00 9.000e+00 9.610e+00 1.024e+01 1.089e+01 1.156e+01\n",
            " 1.225e+01 1.296e+01 1.369e+01 1.444e+01 1.521e+01 1.600e+01 1.681e+01\n",
            " 1.764e+01 1.849e+01 1.936e+01 2.025e+01 2.116e+01 2.209e+01 2.304e+01\n",
            " 2.401e+01]\n"
          ],
          "name": "stdout"
        }
      ]
    },
    {
      "cell_type": "code",
      "metadata": {
        "id": "rImLVeaif43g",
        "colab": {
          "base_uri": "https://localhost:8080/",
          "height": 36
        },
        "outputId": "399fec86-9a9b-457c-b818-85e21455add0"
      },
      "source": [
        "np.zeros(5)"
      ],
      "execution_count": null,
      "outputs": [
        {
          "output_type": "execute_result",
          "data": {
            "text/plain": [
              "array([0., 0., 0., 0., 0.])"
            ]
          },
          "metadata": {
            "tags": []
          },
          "execution_count": 65
        }
      ]
    },
    {
      "cell_type": "markdown",
      "metadata": {
        "id": "7RKujv5uLW6n"
      },
      "source": [
        "Now we have two array, one representing the input of a function and another representing the output. You can't always apply functions to arrays like this, sometimes you will need to use a loop and index. For one dimensional arrays, indexing works exactly like lists.\n",
        "\n",
        "\n",
        "## The same physics problem\n",
        "We solved the time-to-fall problem using base python, but it's useful to see how arrays can be applied to the problem as well. To start we'll create empty arrays for position and velocity, and use a time array with evenly spaced points for our time values."
      ]
    },
    {
      "cell_type": "code",
      "metadata": {
        "id": "y_2tnvso6QYA"
      },
      "source": [
        "h = 10\n",
        "dt = 0.01\n",
        "a = -9.8\n",
        "time = np.arange(0, 10, step=dt)  # This gives us an array with values 0 to 100 separated by step dt. \n",
        "                                   # 100 is the upper bound because we want a time that we know we won't reach\n",
        "\n",
        "# Arrays with only zeros the same length as our time array                                    \n",
        "velocity = np.zeros(len(time))\n",
        "position = np.zeros(len(time))\n",
        "\n",
        "# Set initial Values\n",
        "position[0] = h\n",
        "velocity[0] = 0\n",
        "\n",
        "# We want to keep track of where we're at on the arrays so values go in the right place\n",
        "index = 1\n",
        "\n",
        "# While the previous position is above zero\n",
        "while position[index-1] > 0:\n",
        "    # Get new values using our last values\n",
        "    velocity[index] = velocity[index - 1] + a*dt\n",
        "    position[index] = position[index - 1] + velocity[index - 1]*dt\n",
        "    index += 1\n",
        "\n",
        "# Truncate extra data in arrays after the last index\n",
        "position = position[:index]\n",
        "velocity = velocity[:index]\n",
        "time = time[:index]"
      ],
      "execution_count": null,
      "outputs": []
    },
    {
      "cell_type": "markdown",
      "metadata": {
        "id": "JqQWnFU986rF"
      },
      "source": [
        "The data for our entire simulation is now stored in these three arrays. If we wanted to know the time it took to fall we would just index the time array at the final point"
      ]
    },
    {
      "cell_type": "code",
      "metadata": {
        "id": "s5nQHrzo9KvX",
        "colab": {
          "base_uri": "https://localhost:8080/",
          "height": 36
        },
        "outputId": "7b05e3b3-7920-44fd-c3cd-03f4b16dc2ec"
      },
      "source": [
        "fall_time = time[-1]\n",
        "fall_time"
      ],
      "execution_count": null,
      "outputs": [
        {
          "output_type": "execute_result",
          "data": {
            "text/plain": [
              "1.44"
            ]
          },
          "metadata": {
            "tags": []
          },
          "execution_count": 4
        }
      ]
    },
    {
      "cell_type": "markdown",
      "metadata": {
        "id": "OXK5Z2s393zL"
      },
      "source": [
        "We can do more though, using numpy indexing magic. It turns out you can use an array of booleans to index an array as well"
      ]
    },
    {
      "cell_type": "code",
      "metadata": {
        "id": "1C9YYj-h-Ft1",
        "colab": {
          "base_uri": "https://localhost:8080/",
          "height": 111
        },
        "outputId": "66426039-8cf5-4fbc-8af2-073860329fa5"
      },
      "source": [
        "a = np.arange(1, 10) # The default step is one, it's an optional argument\n",
        "print(a)\n",
        "\n",
        "# take only the parts of a where a > 5 into a new array\n",
        "print(a > 5)\n",
        "a_bigger_than_five = a[a > 5]\n",
        "print(a_bigger_than_five)\n",
        "\n",
        "# Take only the even parts of a into anew array\n",
        "print((a % 2) == 0)\n",
        "a_is_even = a[(a % 2) == 0]\n",
        "print(a_is_even)"
      ],
      "execution_count": null,
      "outputs": [
        {
          "output_type": "stream",
          "text": [
            "[1 2 3 4 5 6 7 8 9]\n",
            "[False False False False False  True  True  True  True]\n",
            "[6 7 8 9]\n",
            "[False  True False  True False  True False  True False]\n",
            "[2 4 6 8]\n"
          ],
          "name": "stdout"
        }
      ]
    },
    {
      "cell_type": "markdown",
      "metadata": {
        "id": "U_dndDsZ-_nA"
      },
      "source": [
        "Now I want to examine the velocity and position values at certain times in our simulation. First we'll print time to see what's availible to us as data points."
      ]
    },
    {
      "cell_type": "code",
      "metadata": {
        "id": "qPFko81P_jRP",
        "colab": {
          "base_uri": "https://localhost:8080/",
          "height": 225
        },
        "outputId": "6b8fdd26-fab4-4430-fa4f-e3952e886ec5"
      },
      "source": [
        "print(time)"
      ],
      "execution_count": null,
      "outputs": [
        {
          "output_type": "stream",
          "text": [
            "[0.   0.01 0.02 0.03 0.04 0.05 0.06 0.07 0.08 0.09 0.1  0.11 0.12 0.13\n",
            " 0.14 0.15 0.16 0.17 0.18 0.19 0.2  0.21 0.22 0.23 0.24 0.25 0.26 0.27\n",
            " 0.28 0.29 0.3  0.31 0.32 0.33 0.34 0.35 0.36 0.37 0.38 0.39 0.4  0.41\n",
            " 0.42 0.43 0.44 0.45 0.46 0.47 0.48 0.49 0.5  0.51 0.52 0.53 0.54 0.55\n",
            " 0.56 0.57 0.58 0.59 0.6  0.61 0.62 0.63 0.64 0.65 0.66 0.67 0.68 0.69\n",
            " 0.7  0.71 0.72 0.73 0.74 0.75 0.76 0.77 0.78 0.79 0.8  0.81 0.82 0.83\n",
            " 0.84 0.85 0.86 0.87 0.88 0.89 0.9  0.91 0.92 0.93 0.94 0.95 0.96 0.97\n",
            " 0.98 0.99 1.   1.01 1.02 1.03 1.04 1.05 1.06 1.07 1.08 1.09 1.1  1.11\n",
            " 1.12 1.13 1.14 1.15 1.16 1.17 1.18 1.19 1.2  1.21 1.22 1.23 1.24 1.25\n",
            " 1.26 1.27 1.28 1.29 1.3  1.31 1.32 1.33 1.34 1.35 1.36 1.37 1.38 1.39\n",
            " 1.4  1.41 1.42 1.43 1.44]\n"
          ],
          "name": "stdout"
        }
      ]
    },
    {
      "cell_type": "markdown",
      "metadata": {
        "id": "6r8-EAAc_pNg"
      },
      "source": [
        "If I want to find the velocity and position at 1 second for example, it's as easy as"
      ]
    },
    {
      "cell_type": "code",
      "metadata": {
        "id": "yCeR8ayi_xZE",
        "colab": {
          "base_uri": "https://localhost:8080/",
          "height": 55
        },
        "outputId": "fd1e4e16-d17f-44c4-d0ec-deef3c42edff"
      },
      "source": [
        "# Putting f before a string lets us insert variables in curly braces\n",
        "print(f'Velocity at 1 second: {velocity[time == 1]}')\n",
        "print(f'Position at 1 second: {position[time == 1]}')"
      ],
      "execution_count": null,
      "outputs": [
        {
          "output_type": "stream",
          "text": [
            "Velocity at 1 second: [-9.8]\n",
            "Position at 1 second: [5.149]\n"
          ],
          "name": "stdout"
        }
      ]
    },
    {
      "cell_type": "markdown",
      "metadata": {
        "id": "tgD_TDzaAFiB"
      },
      "source": [
        "The velocity value is exactly what we'd exoect, and the posituon values is slightly off, but that's okay because this is meant to be a quick example. Note tha the time we index actually has to be in the time array. If we'd tried `time == 1.031` or `time == np.pi` we would end up printing two empty arrays, and feeling kinda dumb (a required part of any physics computation — it even happened to me a few times writing this guide).\n",
        "\n"
      ]
    },
    {
      "cell_type": "markdown",
      "metadata": {
        "id": "OA9CLpjMBZQ4"
      },
      "source": [
        "## Multi-dimensional arrays\n",
        "\n",
        "Arrays aren't limited to one dimension. They can come in many shapes and sizes. As well as the values they store, each array has a shape attribute:"
      ]
    },
    {
      "cell_type": "code",
      "metadata": {
        "id": "reo5J9oQCMU3",
        "colab": {
          "base_uri": "https://localhost:8080/",
          "height": 55
        },
        "outputId": "6fe18ac3-558a-4a2e-b500-62261b7ba0b9"
      },
      "source": [
        "one_d_ones = np.ones(6)\n",
        "print(one_d_ones)\n",
        "print(one_d_ones.shape)"
      ],
      "execution_count": null,
      "outputs": [
        {
          "output_type": "stream",
          "text": [
            "[1. 1. 1. 1. 1. 1.]\n",
            "(6,)\n"
          ],
          "name": "stdout"
        }
      ]
    },
    {
      "cell_type": "markdown",
      "metadata": {
        "id": "YfLg9eI9CcTQ"
      },
      "source": [
        "The first thing we printed is just the array, and the second thing we printed is its shape attribute. Notice that it's a tuple with just one element. That tells us that the array is one dimensional with length 6 (as you knew). Now:"
      ]
    },
    {
      "cell_type": "code",
      "metadata": {
        "id": "GNDP8gCeCbMY",
        "colab": {
          "base_uri": "https://localhost:8080/",
          "height": 74
        },
        "outputId": "fea148be-99d7-4f6a-a842-a484d8c21421"
      },
      "source": [
        "two_d_ones = one_d_ones.reshape((2, 3))\n",
        "print(two_d_ones)\n",
        "print(two_d_ones.shape)"
      ],
      "execution_count": null,
      "outputs": [
        {
          "output_type": "stream",
          "text": [
            "[[1. 1. 1.]\n",
            " [1. 1. 1.]]\n",
            "(2, 3)\n"
          ],
          "name": "stdout"
        }
      ]
    },
    {
      "cell_type": "markdown",
      "metadata": {
        "id": "uAZ36lkeDGRY"
      },
      "source": [
        "Now we have an array with two rows and three columns with the same data. We can also pass a shape tuple instead of an integer into our array building functions instead of an integer:"
      ]
    },
    {
      "cell_type": "code",
      "metadata": {
        "id": "discqWMIDgUV",
        "colab": {
          "base_uri": "https://localhost:8080/",
          "height": 168
        },
        "outputId": "6b6fb3e3-7a54-4743-8a1c-9706d3a4f2fa"
      },
      "source": [
        "some_ones = np.ones((2, 4))\n",
        "some_nones = np.zeros((3, 1))\n",
        "some_garbage = np.empty((3, 3))\n",
        "\n",
        "print(some_ones)\n",
        "print(some_nones)\n",
        "print(some_garbage)"
      ],
      "execution_count": null,
      "outputs": [
        {
          "output_type": "stream",
          "text": [
            "[[1. 1. 1. 1.]\n",
            " [1. 1. 1. 1.]]\n",
            "[[0.]\n",
            " [0.]\n",
            " [0.]]\n",
            "[[4.9e-324 9.9e-324 1.5e-323]\n",
            " [2.0e-323 2.5e-323 3.0e-323]\n",
            " [3.5e-323 4.0e-323 4.4e-323]]\n"
          ],
          "name": "stdout"
        }
      ]
    },
    {
      "cell_type": "markdown",
      "metadata": {
        "id": "lMJrIii5D20h"
      },
      "source": [
        "The shape tuple can have as many dimensions as you want it to, but to keep presentation nice we've limited ourseves to 2-d arrays. The last function `np.empty` returns an array with random numbers and it's useful if we know we want to overwrite the whole array. It's also the fastest way of creating an array of a given shape if we want to optimize the runtime of a program.\n",
        "\n",
        "### Indexing\n",
        "Multidimensional arrays can also be indexed by rows and by columns. Look to the example below for a demonstration:"
      ]
    },
    {
      "cell_type": "code",
      "metadata": {
        "id": "ZRtB1RqoEpW0",
        "colab": {
          "base_uri": "https://localhost:8080/",
          "height": 149
        },
        "outputId": "7f4a5050-bef5-4800-b184-b37b774d79a1"
      },
      "source": [
        "array_to_index = np.arange(1, 10).reshape((3, 3))\n",
        "print(array_to_index)\n",
        "print(array_to_index[2])\n",
        "print(array_to_index[0, 2])\n",
        "print(array_to_index[0:2, 1:3])"
      ],
      "execution_count": null,
      "outputs": [
        {
          "output_type": "stream",
          "text": [
            "[[1 2 3]\n",
            " [4 5 6]\n",
            " [7 8 9]]\n",
            "[7 8 9]\n",
            "3\n",
            "[[2 3]\n",
            " [5 6]]\n"
          ],
          "name": "stdout"
        }
      ]
    },
    {
      "cell_type": "markdown",
      "metadata": {
        "id": "slwFYjxIwwL-"
      },
      "source": [
        "# Matplotlib\n",
        "\n",
        "Creating and storing data for a simulation is great, but if we actually want to make use of it we need to be able to represent it visually. The next library we'll talk about is matplotlib, more specifically the pyplot subpackage. Remember our position and velocity arrays from above? In the cell below we'll make a simple plot."
      ]
    },
    {
      "cell_type": "code",
      "metadata": {
        "id": "dIboUmK1wwus",
        "colab": {
          "base_uri": "https://localhost:8080/",
          "height": 295
        },
        "outputId": "a80d3bac-0e8a-4f41-9212-57646eeb82ff"
      },
      "source": [
        "import matplotlib.pyplot as plt   # How everyone does it\n",
        "\n",
        "# Start an empty figure\n",
        "plt.figure()\n",
        "# Plot time as x and position as y\n",
        "plt.plot(time, position)\n",
        "# Give it a title\n",
        "plt.title('Position of a falling object over time')\n",
        "# Label the axes\n",
        "plt.xlabel('time (s)')\n",
        "plt.ylabel('height (m)')\n",
        "# And show to output the figure\n",
        "plt.show()"
      ],
      "execution_count": null,
      "outputs": [
        {
          "output_type": "display_data",
          "data": {
            "image/png": "[encoded data removed]",
            "text/plain": [
              "<Figure size 432x288 with 1 Axes>"
            ]
          },
          "metadata": {
            "tags": [],
            "needs_background": "light"
          }
        }
      ]
    },
    {
      "cell_type": "markdown",
      "metadata": {
        "id": "H95SdywqGQwx"
      },
      "source": [
        "This package works a little bit differently, in that we're not explicitly creating objects and assigning them to variables, but each line does something—or adds something—to the plot. It automatically configures most details, but everything in the plot above can be edited somehow with advanced use of the package.\n",
        "\n",
        "If we wanted to plot something else, we'd start a new figure with a fresh `plt.figure()`. In the next cell, we'll make two plots : velocity against time and velocity against position."
      ]
    },
    {
      "cell_type": "code",
      "metadata": {
        "id": "njPJktYWG6Ru",
        "colab": {
          "base_uri": "https://localhost:8080/",
          "height": 573
        },
        "outputId": "91ed7c03-b6f8-4e18-bfa9-56f9ca6da49b"
      },
      "source": [
        "plt.figure()\n",
        "plt.plot(time, velocity)\n",
        "plt.title('Velocity of a falling object over time')\n",
        "plt.xlabel('time (s)')\n",
        "plt.ylabel('velocity (m/s)')\n",
        "plt.show()\n",
        "\n",
        "plt.figure()\n",
        "plt.plot(position, velocity)\n",
        "plt.title('Position against Velocity')\n",
        "plt.xlabel('height (m)')\n",
        "plt.ylabel('velocity (m/s)')\n",
        "plt.show()"
      ],
      "execution_count": null,
      "outputs": [
        {
          "output_type": "display_data",
          "data": {
            "image/png": "[encoded data removed]",
            "text/plain": [
              "<Figure size 432x288 with 1 Axes>"
            ]
          },
          "metadata": {
            "tags": [],
            "needs_background": "light"
          }
        },
        {
          "output_type": "display_data",
          "data": {
            "image/png": "[encoded data removed]",
            "text/plain": [
              "<Figure size 432x288 with 1 Axes>"
            ]
          },
          "metadata": {
            "tags": [],
            "needs_background": "light"
          }
        }
      ]
    },
    {
      "cell_type": "markdown",
      "metadata": {
        "id": "XmRzH3wQoAi5"
      },
      "source": [
        "# A Projectile Problem\n",
        "\n",
        "**Problem:** Jeremy is standing on a cliff, holding his potato cannon. His finely crafted weapon has a muzzle velocity of 100 m/s, and the cliff is 200 metres tall. Jeremy wants to shoot his potato as far away as possible. Neglecting air resistance, at what angle should Jeremy shoot his cannon to accomplish this? What is the farthest possible distance that he can shoot?\n",
        "\n",
        "This problem can be solved algebraically, but as it turns out, the solution requires a <a href='http://www.themcclungs.net/physics/download/H/2_D_Motion/Projectile%20Cliff.pdf'>some gnarly math and more than one trig identity or calculus if that's more your style.</a> Some physics problems are much worse than this, and require computations to give a full impression of the solution. \n",
        "\n",
        "Let's start by writing a range function given an angle, height, initial velocity and timestep. We'll use a timestep to figure out how long the projectile will take to hit the ground using the y-velocity and compute the distance travelled in that time. This example is analogous to the one above, except the x acceleration is zero x velocity stays constant."
      ]
    },
    {
      "cell_type": "code",
      "metadata": {
        "id": "q0XSNYYxoAi6"
      },
      "source": [
        "import numpy as np\n",
        "import matplotlib.pyplot as plt\n",
        "\n",
        "def get_range(h, theta, v_i, dt):\n",
        "    \"\"\"Return the distance travelled by a projectile\n",
        "    launched from height h, at angle theta with initial\n",
        "    velocity v_i\n",
        "    \"\"\"\n",
        "    v_x = v_i*np.cos(theta*np.pi/180)\n",
        "    v_y = v_i*np.sin(theta*np.pi/180)\n",
        "    \n",
        "    # Set initial conditions, note that we don't need to keep track of time\n",
        "    y = h\n",
        "    x = 0\n",
        "        \n",
        "    while y >= 0:\n",
        "        v_y += -9.8*dt\n",
        "        x += v_x*dt\n",
        "        y += v_y*dt\n",
        "        \n",
        "    return x"
      ],
      "execution_count": null,
      "outputs": []
    },
    {
      "cell_type": "markdown",
      "metadata": {
        "id": "Zy69BF0voAi8"
      },
      "source": [
        "Now that we have our function, the easiest thing to do is generate a bunch of angles and try it on all of them. We do this in the cell below. The `np.argmax` function returns the index of the maximum of the given array."
      ]
    },
    {
      "cell_type": "code",
      "metadata": {
        "id": "YBZVTh6eoAi9",
        "colab": {
          "base_uri": "https://localhost:8080/",
          "height": 36
        },
        "outputId": "d643aaeb-1384-4318-d171-ac63625d0578"
      },
      "source": [
        "height = 200\n",
        "v_i = 100\n",
        "\n",
        "# Set our array of thetas to sample from\n",
        "theta_array = np.linspace(0, 90, num=300)\n",
        "\n",
        "# Make a range array to populate\n",
        "range_array = np.zeros(theta_array.shape)\n",
        "\n",
        "for i in range(len(theta_array)):\n",
        "    range_array[i] = get_range(height, theta_array[i], v_i, 0.001)\n",
        "\n",
        "max_index = np.argmax(range_array)\n",
        "optimal_theta = theta_array[max_index]\n",
        "optimal_theta"
      ],
      "execution_count": null,
      "outputs": [
        {
          "output_type": "execute_result",
          "data": {
            "text/plain": [
              "40.33444816053512"
            ]
          },
          "metadata": {
            "tags": []
          },
          "execution_count": 21
        }
      ]
    },
    {
      "cell_type": "markdown",
      "metadata": {
        "id": "4PJxxi_BoAjA"
      },
      "source": [
        "And that's our optimal angle. Try rerunning the cell using a different timestep. To finish the problem, we'll compute the maximum distance."
      ]
    },
    {
      "cell_type": "code",
      "metadata": {
        "id": "EgpZ4iFDNbqi",
        "colab": {
          "base_uri": "https://localhost:8080/",
          "height": 36
        },
        "outputId": "e76791cb-5aa8-4041-a995-245d9872a822"
      },
      "source": [
        "maximum_distance = get_range(height, optimal_theta, v_i, 0.1)\n",
        "maximum_distance"
      ],
      "execution_count": null,
      "outputs": [
        {
          "output_type": "execute_result",
          "data": {
            "text/plain": [
              "1204.4013255717048"
            ]
          },
          "metadata": {
            "tags": []
          },
          "execution_count": 22
        }
      ]
    },
    {
      "cell_type": "markdown",
      "metadata": {
        "id": "0gPGUH3aI-3X"
      },
      "source": [
        "Now it seems reasonable to plot this trajectory so we know what it will look like off the cliff. Below we write a function to get arrays representing time, x position and y position for given angle, height and initial velocity, then we plot the trajectory."
      ]
    },
    {
      "cell_type": "code",
      "metadata": {
        "id": "5JanZPeJKO5k",
        "colab": {
          "base_uri": "https://localhost:8080/",
          "height": 295
        },
        "outputId": "4595df84-46d5-4226-b6eb-afca6c566be2"
      },
      "source": [
        "# This function is a little more complicated but it has the exact same structure as the last one\n",
        "\n",
        "def get_range_data(h, theta, v_i, dt):\n",
        "    \"\"\"Return arrays for time, x position, and y position of a projectile\n",
        "    with v_i shot from angle theta at height h\n",
        "\n",
        "    Returns: x_position, y_position\n",
        "    \"\"\"\n",
        "    # Prepare arrays\n",
        "    x_position = np.zeros(round(1000/dt))  # Why do I choose this as my array length?\n",
        "    y_position = np.zeros(round(1000/dt))\n",
        "\n",
        "    # Set initial conditions\n",
        "    y_position[0] = h  \n",
        "    v_x = v_i*np.cos(theta*np.pi/180)\n",
        "    v_y = v_i*np.sin(theta*np.pi/180)\n",
        "\n",
        "    index = 1\n",
        "    while y_position[index - 1] > 0:\n",
        "        v_y += -9.8*dt\n",
        "        x_position[index] = x_position[index - 1] + v_x*dt\n",
        "        y_position[index] = y_position[index - 1] + v_y*dt\n",
        "        index += 1\n",
        "    \n",
        "    # Truncate arrays\n",
        "    x_position = x_position[y_position > 0]\n",
        "    y_position = y_position[y_position > 0]\n",
        "\n",
        "    return x_position, y_position\n",
        "\n",
        "\n",
        "# Our function actually returns a tuple, but we can \"unpack\" a tuple to varibles\n",
        "x_position, y_position = get_range_data(200, optimal_theta, 100, 0.001)\n",
        "\n",
        "# Plot\n",
        "plt.figure()\n",
        "plt.plot(x_position, y_position)\n",
        "plt.xlabel('Distance (m)')\n",
        "plt.ylabel('Height (m)')\n",
        "plt.title(f'Optimal trajectory at angle {round(optimal_theta, 3)}')\n",
        "plt.show()"
      ],
      "execution_count": null,
      "outputs": [
        {
          "output_type": "display_data",
          "data": {
            "image/png": "[encoded data removed]",
            "text/plain": [
              "<Figure size 432x288 with 1 Axes>"
            ]
          },
          "metadata": {
            "tags": [],
            "needs_background": "light"
          }
        }
      ]
    },
    {
      "cell_type": "markdown",
      "metadata": {
        "id": "t64zJ4TaN-J7"
      },
      "source": [
        "We could have started with this function, but sometimes just writing a simple function to solve a problem is easier than a more general complicated one. \n",
        "\n",
        "As a side effect of that last step, we now have the tools to plot any trajectory we want. As an extra bonus step, let's plot a few differently angles and see how to make a different sized plot and add a legend."
      ]
    },
    {
      "cell_type": "code",
      "metadata": {
        "id": "yFBJDrPSOQrG",
        "colab": {
          "base_uri": "https://localhost:8080/",
          "height": 404
        },
        "outputId": "237e6aaa-b75d-4c9d-9c9d-022f67b7762f"
      },
      "source": [
        "angle_list = [-15, 0, 15, 30, optimal_theta, 50, 60, 75, 85]\n",
        "\n",
        "# Specify the figsize, these end up being in inches if you want to print your figure\n",
        "plt.figure(figsize=(9, 6))\n",
        "\n",
        "# Use a for loop to plot\n",
        "for angle in angle_list:\n",
        "    # Get data\n",
        "    x_position, y_position = get_range_data(200, angle, 100, 0.001)\n",
        "    # We can label our lines to put in a legend\n",
        "    plt.plot(x_position, y_position, label=f'{round(angle, 2)} degrees')\n",
        "\n",
        "# Labels\n",
        "plt.xlabel('Distance (m)')\n",
        "plt.ylabel('Height (m)')\n",
        "plt.title('Trajectories at many angles')\n",
        "\n",
        "# Optional decorations to outline the cliff\n",
        "plt.hlines(0, 0, 1300)   # ground\n",
        "plt.hlines(200, -100, 0) # cliff\n",
        "plt.vlines(0, 0, 200)    # cliff face\n",
        "plt.xlim(-50, 1250)      # reset plot limits\n",
        "\n",
        "# And the legend\n",
        "plt.legend(title='Angle:')\n",
        "plt.show()"
      ],
      "execution_count": null,
      "outputs": [
        {
          "output_type": "display_data",
          "data": {
            "image/png": "[encoded data removed]",
            "text/plain": [
              "<Figure size 648x432 with 1 Axes>"
            ]
          },
          "metadata": {
            "tags": [],
            "needs_background": "light"
          }
        }
      ]
    },
    {
      "cell_type": "markdown",
      "metadata": {
        "id": "WbwTc5G7bNwP"
      },
      "source": [
        "# More Problems\n",
        "\n",
        "The following are incomplete pratice problems with some kind of physics question behind them and either incomplete code, or suggestions on how to complete the code. Erveything in code boxes is a suggestion, and if you think you have a bettwe method, it's completely valid so long as the results are right. As before you'll need to import the following packages\n"
      ]
    },
    {
      "cell_type": "code",
      "metadata": {
        "id": "D8AaAosxTMIf"
      },
      "source": [
        "import numpy as np\n",
        "import matplotlib.pyplot as plt"
      ],
      "execution_count": null,
      "outputs": []
    },
    {
      "cell_type": "markdown",
      "metadata": {
        "id": "Byr3susPmOy5"
      },
      "source": [
        "## Oscilations\n",
        "Consider a mass hanging from a spring boincing up and down with no gravity. We say that in this case the mass is undergoing oscilations. We know that at every point the mass' acceleration can be written as\n",
        "\n",
        "$$\n",
        "a = \\frac{F_\\text{spring}}{m} = -\\frac{kx}{m}\n",
        "$$\n",
        "\n",
        "Unlike the falling ball, this mass' acceleration changes based off of position. However, the equations we wrote to timestep our position and velocity still hold, so long as our timestep is small. Given $v_1$, $x_1$ and some small timestep $\\Delta t$, it is still accurate to write\n",
        "\n",
        "$$\n",
        "v_2 = v_1 + a\\Delta t  \\\\\n",
        "x_2 = x_1 + v_1\\Delta t \\\\\n",
        "t_2 = t_1 + \\Delta t\n",
        "$$ \n",
        "\n",
        "And if we sub in our acceleration, assuming it's a constant function of $x_1$ over the whole timestep we get\n",
        "\n",
        "$$\n",
        "v_2 = v_1 -\\frac{kx_1}{m}\\Delta_t\n",
        "$$\n",
        "\n",
        "In the cell below I've set code to build a data set, but there's some code missing in the body of the loop. Fill it in according to the equations above and run to make a plot of oscilations.\n"
      ]
    },
    {
      "cell_type": "code",
      "metadata": {
        "id": "n4N8jol6HHY8",
        "colab": {
          "base_uri": "https://localhost:8080/",
          "height": 295
        },
        "outputId": "f1bf8bd4-ce73-4594-8a2b-34dc19a10f50"
      },
      "source": [
        "# Set up data sets to pouplate\n",
        "dt = 0.01\n",
        "t_array = np.arange(0, 20, dt)\n",
        "x_array = np.zeros(t_array.shape)\n",
        "v_array = np.zeros(t_array.shape)\n",
        "\n",
        "# Set initial conditions\n",
        "m = 1             # Mass in kg\n",
        "k = 10            # Sprink constant in N/m\n",
        "x_array[0] = 1    # Initial position in m\n",
        "v_array[0] = 0    # Initial velocity in m/s\n",
        "\n",
        "# We'll index through and set the rest of the values\n",
        "for i in range(1, len(t_array)):\n",
        "    v_array[i] = v_array[i - 1] - k*x_array[i-1]/m * dt\n",
        "    x_array[i] = x_array[i - 1] + v_array[i]*dt\n",
        "\n",
        "\n",
        "# Make a plot\n",
        "plt.figure()\n",
        "plt.plot(t_array, x_array)\n",
        "plt.title('Oscilations on a spring')\n",
        "plt.xlabel('time (s)')\n",
        "plt.ylabel('position (m)')\n",
        "plt.show()"
      ],
      "execution_count": null,
      "outputs": [
        {
          "output_type": "display_data",
          "data": {
            "image/png": "[encoded data removed]",
            "text/plain": [
              "<Figure size 432x288 with 1 Axes>"
            ]
          },
          "metadata": {
            "tags": [],
            "needs_background": "light"
          }
        }
      ]
    },
    {
      "cell_type": "markdown",
      "metadata": {
        "id": "x5AijaCuJDNo"
      },
      "source": [
        "If you filled in the code right you should see oscilations of increasing amplitude, more than doubling over the course of 10 seconds. This should not happen and if we plot energy:\n",
        "\n",
        "$$\n",
        "E = mv^2 + kx^2\n",
        "$$\n",
        "\n",
        "It will be very easy to see the problem."
      ]
    },
    {
      "cell_type": "code",
      "metadata": {
        "id": "bJG580QCLZAa",
        "colab": {
          "base_uri": "https://localhost:8080/",
          "height": 295
        },
        "outputId": "45919913-1ed0-47d6-b6f9-bdf937cea356"
      },
      "source": [
        "# Run this cell to plot energy\n",
        "E = m*v_array**2 + k*x_array**2\n",
        "\n",
        "plt.plot(t_array, E)\n",
        "plt.title('Energy over time')\n",
        "plt.xlabel('Time (s)')\n",
        "plt.ylabel('Energy (J)')\n",
        "plt.show()"
      ],
      "execution_count": null,
      "outputs": [
        {
          "output_type": "display_data",
          "data": {
            "image/png": "[encoded data removed]",
            "text/plain": [
              "<Figure size 432x288 with 1 Axes>"
            ]
          },
          "metadata": {
            "tags": [],
            "needs_background": "light"
          }
        }
      ]
    },
    {
      "cell_type": "markdown",
      "metadata": {
        "id": "s7fP7Bh0LtxI"
      },
      "source": [
        "If you did the last step right you should see an exponential energy increase. This should not be happening because no energy is being added to the system. This is a flaw of the Euler method that we've used. As it turns out, the Euler method does not conserve energy. For problems like this, the **Euler-Crommer** method exists, which is very similar save one change:\n",
        "\n",
        "$$\n",
        "v_2 = v_1 + a\\Delta t  \\\\\n",
        "x_2 = x_1 + v_2\\Delta t \\\\\n",
        "t_2 = t_1 + \\Delta t\n",
        "$$ \n",
        "\n",
        "Do you see what changed? Edit the code above with this new method, and re-run the plots. Are the oscilations stable? Is energy conserved?"
      ]
    },
    {
      "cell_type": "markdown",
      "metadata": {
        "id": "3h3oWmwQkK4N"
      },
      "source": [
        "## A Sprinkler\n",
        "A lawn sprinkler changes it's angle 0 degrees counterclockwise to 180 degrees at a constant rate over 5 seconds. The water exits the sprinkler at 2 m/s. Assume that the water coming out looks like a projectile. Using any of the functions above, plot the position that the water lands as a function of time. What does the function look like?\n"
      ]
    },
    {
      "cell_type": "code",
      "metadata": {
        "id": "VeZ480HrdXJJ"
      },
      "source": [
        "### Write Your Code Here ###\n",
        "\n",
        "## Here are some suggestions of things to do:\n",
        "# Set up time and angle data which we know from the question\n",
        "\n",
        "# Set empty range data to popluate\n",
        "\n",
        "# Get range data from angle data (you might want to use a loop)\n",
        "\n",
        "# Plot range against time"
      ],
      "execution_count": null,
      "outputs": []
    },
    {
      "cell_type": "markdown",
      "metadata": {
        "id": "RSGtQJ1FeEud"
      },
      "source": [
        "## Air Resistance\n",
        "\n",
        "For projectiles like a baseball, it turns out that we can approximate the force from air resistance as \n",
        "\n",
        "$$\n",
        "F_{\\text{drag}} = cv^2\n",
        "$$\n",
        "\n",
        "Where c is some constant. In the case of a baseball $c$ comes out to be $0.001225 \\, \\text{kg}/\\text{m}$. From the last question, we know we can timestep our projectile's velocity, position and time as:\n",
        "$$\n",
        "v_2 = v_1 + a\\Delta t \\\\\n",
        "x_2 = x_1 + v_2\\Delta t \\\\\n",
        "t_2 = t_1 + \\Delta t\n",
        "$$ \n",
        "\n",
        "Our baseball weighs $0.001225 \\, \\text{kg}$ and it's dropped from a height of $100 \\, \\text{m}$. Use a timestep algorithm to compute how long it will take the baseball to reach the ground."
      ]
    },
    {
      "cell_type": "code",
      "metadata": {
        "id": "vh-GYshOgEPd"
      },
      "source": [
        "### Write your code here ###"
      ],
      "execution_count": null,
      "outputs": []
    },
    {
      "cell_type": "markdown",
      "metadata": {
        "id": "ELLODKPlhRZr"
      },
      "source": [
        "In the same vein as the first example, adapt your code into a function that returns the time, position and velocity of the falling baseball over the course of it's drop for a given timestep."
      ]
    },
    {
      "cell_type": "code",
      "metadata": {
        "id": "kPpj0uVohi-U"
      },
      "source": [
        "def basefall(dt):\n",
        "     \"\"\"Return the position, velocity ane time at each point\n",
        "     of a baseball's 100m drop separated by dt\n",
        "     \"\"\"\n",
        "     time_array = # Your code\n",
        "     position_array = # Your code\n",
        "     velocity_array = # Your code\n",
        "     # Initial variables:\n",
        "     position_array[0] = 100\n",
        "     velocity_array[0] = 0\n",
        "\n",
        "     ### Your code ###\n",
        "\n",
        "     return time_array, position_array, velocity_array\n",
        "\n",
        "time_array, position_array, velocity_array = basefall(0.001)"
      ],
      "execution_count": null,
      "outputs": []
    },
    {
      "cell_type": "markdown",
      "metadata": {
        "id": "AMyBep9fjDph"
      },
      "source": [
        "Now, plot some quantities against each other ane remark on the differences of the graphs."
      ]
    },
    {
      "cell_type": "code",
      "metadata": {
        "id": "qCXEdznEjL3x"
      },
      "source": [
        "### Write your code here ###"
      ],
      "execution_count": null,
      "outputs": []
    },
    {
      "cell_type": "markdown",
      "metadata": {
        "id": "r4rIOb-sjS39"
      },
      "source": [
        "Finally the icing on the cake. Everything we've talked about here extends to two dimensions, with drag in the x direction coming from the x velocity and y drag coming from y velocity. If you're feeling ambitious, solve Jeremy's potato problem again by factoring in air resistance, assuming that a potato has the same mass and aerodynamic properties as a baseball."
      ]
    },
    {
      "cell_type": "code",
      "metadata": {
        "id": "qlT9UTb3jxRN"
      },
      "source": [
        "### Write your code here ###\n",
        "## Use extra blocks if you need to ##"
      ],
      "execution_count": null,
      "outputs": []
    },
    {
      "cell_type": "markdown",
      "metadata": {
        "id": "yXd5I20iiavY"
      },
      "source": [
        "# Further Reading\n",
        "CTA200 is a course offered to summer students researching astronomy at U of T. It happens over two weeks and the content is on github and all the content is jupyter notebooks. Note that this source uses python 2, so things like print statements need to be edited:\n",
        "- https://github.com/ttricco/cta200h\n"
      ]
    }
  ]
}