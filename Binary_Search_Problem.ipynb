{
  "nbformat": 4,
  "nbformat_minor": 0,
  "metadata": {
    "colab": {
      "name": "Binary Search Problem.ipynb",
      "provenance": [],
      "collapsed_sections": [],
      "authorship_tag": "ABX9TyPJBGLs+zHvsEUoV0GmfOop",
      "include_colab_link": true
    },
    "kernelspec": {
      "name": "python3",
      "display_name": "Python 3"
    },
    "language_info": {
      "name": "python"
    }
  },
  "cells": [
    {
      "cell_type": "markdown",
      "metadata": {
        "id": "view-in-github",
        "colab_type": "text"
      },
      "source": [
        "<a href=\"https://colab.research.google.com/github/MustafaKhan670093/Public-Notes/blob/master/Binary_Search_Problem.ipynb\" target=\"_parent\"><img src=\"https://colab.research.google.com/assets/colab-badge.svg\" alt=\"Open In Colab\"/></a>"
      ]
    },
    {
      "cell_type": "markdown",
      "metadata": {
        "id": "6H8G9o_w5oa-"
      },
      "source": [
        "# **Binary Search Problem**\n",
        "\n",
        "**Question:** Find the number of negative and positive numbers in a sorted array using binary search. 0 is considered a positive number. The return output should be a list of the form `[num of negative, num of positive]`.\n",
        "\n",
        "**Solution:**\n"
      ]
    },
    {
      "cell_type": "code",
      "metadata": {
        "colab": {
          "base_uri": "https://localhost:8080/"
        },
        "id": "d6Kuyv1r5F4s",
        "outputId": "10189f0f-4eb1-4fd6-88d2-d96ba4f7b195"
      },
      "source": [
        "#Find the number of negative and positive numbers in a sorted array using binary search. \n",
        "#0 is considered a positive number. The return output should be a list of the form [num of negative, num of positive]\n",
        "\n",
        "def binary_nums(arr):\n",
        "    low = 0\n",
        "    high = len(arr) - 1\n",
        "    mid = 0\n",
        " \n",
        "    while low <= high:\n",
        " \n",
        "        mid = (high + low) // 2\n",
        "\n",
        "        # If # at mid is negative, ignore left half\n",
        "        if arr[mid] < 0:\n",
        "            low = mid + 1\n",
        "            if arr[mid + 1] >= 0 and low!=len(arr)-1: #Check for switch of signage + if end of the list\n",
        "              return [low, len(arr)-low]\n",
        "            elif low==len(arr)-1:\n",
        "              #If we reach here we've gone through the list and see only negative numbers\n",
        "              return[len(arr), 0]\n",
        " \n",
        "        # If # at mid is positive, ignore right half\n",
        "        if arr[mid] >= 0:\n",
        "            high = mid - 1\n",
        "            if arr[mid-1] < 0 and high!=0: #Check for switch of signage + if end of the list\n",
        "              return [high+1, len(arr)-high-1]\n",
        "            elif high == 0:\n",
        "              #If we reach here we've gone through the list and see only positive numbers\n",
        "              return [0, len(arr)]\n",
        " \n",
        "    # If we reach here, then no positive or negative elements are present\n",
        "    return [0,0]\n",
        "\n",
        "#Test Cases\n",
        "a = [-2, -1, 0, 4, 5, 8]\n",
        "print(binary_nums(a))\n",
        "\n",
        "b = [-2, -1, 4, 5, 8, 10, 12]\n",
        "print(binary_nums(b))\n",
        "\n",
        "c = [-8, -5, -2, -1, 4, 5, 8, 10, 12]\n",
        "print(binary_nums(c))\n",
        "\n",
        "d=[]\n",
        "print(binary_nums(d))\n",
        "\n",
        "e=[-112, -43, -6, -5, -4, -3, -2, -1]\n",
        "print(binary_nums(e))\n",
        "\n",
        "f=[1, 2, 3, 4]\n",
        "print(binary_nums(f))"
      ],
      "execution_count": 3,
      "outputs": [
        {
          "output_type": "stream",
          "text": [
            "[2, 4]\n",
            "[2, 5]\n",
            "[4, 5]\n",
            "[0, 0]\n",
            "[8, 0]\n",
            "[0, 4]\n"
          ],
          "name": "stdout"
        }
      ]
    }
  ]
}